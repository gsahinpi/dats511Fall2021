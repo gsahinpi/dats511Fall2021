{
 "cells": [
  {
   "cell_type": "markdown",
   "metadata": {},
   "source": [
    "\n",
    "\n",
    "\n",
    "\n",
    "\n",
    "\n",
    "\n",
    "<h1>post treatment bias</h1>: mistaken inferences arising from including variables that are consequences of other variables. "
   ]
  },
  {
   "cell_type": "code",
   "execution_count": null,
   "metadata": {},
   "outputs": [],
   "source": []
  },
  {
   "cell_type": "markdown",
   "metadata": {},
   "source": [
    "<h1>post treatment bias</h1>: mistaken inferences arising from including variables that are consequences of other variables. "
   ]
  },
  {
   "cell_type": "markdown",
   "metadata": {},
   "source": [
    "The language “post-treatment” comes in fact from thinking about experimental designs.\n",
    "\n",
    "Suppose for example that you are growing some plants in a greenhouse.\n",
    "\n",
    "\n",
    "You want to know the difference in growth under different anti-fungal soil treatments, because fungus on the plants tends to reduce their growth. \n",
    "\n",
    "\n",
    "Procedure:\n",
    "\n",
    "Plants are initially seeded and sprout. Their heights are\n",
    "measured. Then different soil treatments are applied. Final measures are the height of the\n",
    "plant and the presence of fungus. \n",
    "\n",
    "\n",
    "There are four variables of interest here: initial height, final\n",
    "height, treatment, and presence of fungus. \n",
    "\n",
    "Final height is the outcome of interest.\n",
    "But which of the other variables should be in the model?\n",
    "\n",
    "\n",
    "If your goal is to make a causal inference about\n",
    "the treatment, you shouldn’t include the presence of fungus, because it is a post-treatment\n",
    "effect.\n"
   ]
  }
 ],
 "metadata": {
  "kernelspec": {
   "display_name": "Python 3",
   "language": "python",
   "name": "python3"
  },
  "language_info": {
   "codemirror_mode": {
    "name": "ipython",
    "version": 3
   },
   "file_extension": ".py",
   "mimetype": "text/x-python",
   "name": "python",
   "nbconvert_exporter": "python",
   "pygments_lexer": "ipython3",
   "version": "3.8.5"
  }
 },
 "nbformat": 4,
 "nbformat_minor": 4
}
