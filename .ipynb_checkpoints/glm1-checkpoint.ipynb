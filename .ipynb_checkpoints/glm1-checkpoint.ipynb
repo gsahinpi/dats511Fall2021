{
 "cells": [
  {
   "cell_type": "code",
   "execution_count": 1,
   "id": "50195e9b-0c1b-404c-a21c-541a029c3d7c",
   "metadata": {},
   "outputs": [
    {
     "ename": "ModuleNotFoundError",
     "evalue": "No module named 'arviz'",
     "output_type": "error",
     "traceback": [
      "\u001b[1;31m---------------------------------------------------------------------------\u001b[0m",
      "\u001b[1;31mModuleNotFoundError\u001b[0m                       Traceback (most recent call last)",
      "\u001b[1;32m<ipython-input-1-90b93d56c94d>\u001b[0m in \u001b[0;36m<module>\u001b[1;34m\u001b[0m\n\u001b[0;32m      1\u001b[0m \u001b[1;32mimport\u001b[0m \u001b[0mwarnings\u001b[0m\u001b[1;33m\u001b[0m\u001b[1;33m\u001b[0m\u001b[0m\n\u001b[0;32m      2\u001b[0m \u001b[1;33m\u001b[0m\u001b[0m\n\u001b[1;32m----> 3\u001b[1;33m \u001b[1;32mimport\u001b[0m \u001b[0marviz\u001b[0m \u001b[1;32mas\u001b[0m \u001b[0maz\u001b[0m\u001b[1;33m\u001b[0m\u001b[1;33m\u001b[0m\u001b[0m\n\u001b[0m\u001b[0;32m      4\u001b[0m \u001b[1;32mimport\u001b[0m \u001b[0mmatplotlib\u001b[0m\u001b[1;33m.\u001b[0m\u001b[0mpyplot\u001b[0m \u001b[1;32mas\u001b[0m \u001b[0mplt\u001b[0m\u001b[1;33m\u001b[0m\u001b[1;33m\u001b[0m\u001b[0m\n\u001b[0;32m      5\u001b[0m \u001b[1;32mimport\u001b[0m \u001b[0mnumpy\u001b[0m \u001b[1;32mas\u001b[0m \u001b[0mnp\u001b[0m\u001b[1;33m\u001b[0m\u001b[1;33m\u001b[0m\u001b[0m\n",
      "\u001b[1;31mModuleNotFoundError\u001b[0m: No module named 'arviz'"
     ]
    }
   ],
   "source": [
    "import warnings\n",
    "\n",
    "import arviz as az\n",
    "import matplotlib.pyplot as plt\n",
    "import numpy as np\n",
    "import pandas as pd\n",
    "import pymc3 as pm\n",
    "\n",
    "from scipy import stats\n",
    "\n",
    "warnings.simplefilter(action=\"ignore\", category=FutureWarning)\n",
    "pd.set_option(\"mode.chained_assignment\", None)"
   ]
  },
  {
   "cell_type": "code",
   "execution_count": 2,
   "id": "692128a0-8e39-4e85-a243-19fb59b6cee5",
   "metadata": {},
   "outputs": [
    {
     "ename": "NameError",
     "evalue": "name 'pd' is not defined",
     "output_type": "error",
     "traceback": [
      "\u001b[1;31m---------------------------------------------------------------------------\u001b[0m",
      "\u001b[1;31mNameError\u001b[0m                                 Traceback (most recent call last)",
      "\u001b[1;32m<ipython-input-2-91cfe2a3821d>\u001b[0m in \u001b[0;36m<module>\u001b[1;34m\u001b[0m\n\u001b[1;32m----> 1\u001b[1;33m \u001b[0mdata\u001b[0m \u001b[1;33m=\u001b[0m \u001b[0mpd\u001b[0m\u001b[1;33m.\u001b[0m\u001b[0mread_csv\u001b[0m\u001b[1;33m(\u001b[0m\u001b[1;34m'Data/challenger.csv'\u001b[0m\u001b[1;33m,\u001b[0m \u001b[0mparse_dates\u001b[0m\u001b[1;33m=\u001b[0m\u001b[1;33m[\u001b[0m\u001b[1;36m0\u001b[0m\u001b[1;33m]\u001b[0m\u001b[1;33m)\u001b[0m\u001b[1;33m\u001b[0m\u001b[1;33m\u001b[0m\u001b[0m\n\u001b[0m\u001b[0;32m      2\u001b[0m \u001b[1;33m\u001b[0m\u001b[0m\n\u001b[0;32m      3\u001b[0m \u001b[1;31m# avoiding column names with spaces\u001b[0m\u001b[1;33m\u001b[0m\u001b[1;33m\u001b[0m\u001b[1;33m\u001b[0m\u001b[0m\n\u001b[0;32m      4\u001b[0m \u001b[0mdata\u001b[0m\u001b[1;33m.\u001b[0m\u001b[0mrename\u001b[0m\u001b[1;33m(\u001b[0m\u001b[0mcolumns\u001b[0m\u001b[1;33m=\u001b[0m\u001b[1;33m{\u001b[0m\u001b[1;34m'Damage Incident'\u001b[0m\u001b[1;33m:\u001b[0m \u001b[1;34m'Damage'\u001b[0m\u001b[1;33m}\u001b[0m\u001b[1;33m,\u001b[0m \u001b[0minplace\u001b[0m\u001b[1;33m=\u001b[0m\u001b[1;32mTrue\u001b[0m\u001b[1;33m)\u001b[0m\u001b[1;33m\u001b[0m\u001b[1;33m\u001b[0m\u001b[0m\n\u001b[0;32m      5\u001b[0m \u001b[1;33m\u001b[0m\u001b[0m\n",
      "\u001b[1;31mNameError\u001b[0m: name 'pd' is not defined"
     ]
    }
   ],
   "source": [
    "data = pd.read_csv('Data/challenger.csv', parse_dates=[0])\n",
    "\n",
    "# avoiding column names with spaces\n",
    "data.rename(columns={'Damage Incident': 'Damage'}, inplace=True)\n",
    "\n",
    "# dropping row 3, in which Damage Incident is NaN,\n",
    "# and row 24, which is the record for the Challenger\n",
    "data.drop(labels=[3, 24], inplace=True)\n",
    "\n",
    "# convert the Damage column to integer\n",
    "data['Damage'] = data['Damage'].astype(int)\n",
    "\n",
    "data"
   ]
  },
  {
   "cell_type": "code",
   "execution_count": 3,
   "id": "ee237506-da66-4e28-9941-c26862438ce8",
   "metadata": {},
   "outputs": [
    {
     "name": "stderr",
     "output_type": "stream",
     "text": [
      "Matplotlib is building the font cache; this may take a moment.\n"
     ]
    },
    {
     "ename": "ModuleNotFoundError",
     "evalue": "No module named 'utils'",
     "output_type": "error",
     "traceback": [
      "\u001b[1;31m---------------------------------------------------------------------------\u001b[0m",
      "\u001b[1;31mModuleNotFoundError\u001b[0m                       Traceback (most recent call last)",
      "\u001b[1;32m<ipython-input-3-4e2ac29c497e>\u001b[0m in \u001b[0;36m<module>\u001b[1;34m\u001b[0m\n\u001b[0;32m      1\u001b[0m \u001b[1;32mimport\u001b[0m \u001b[0mmatplotlib\u001b[0m\u001b[1;33m.\u001b[0m\u001b[0mpyplot\u001b[0m \u001b[1;32mas\u001b[0m \u001b[0mplt\u001b[0m\u001b[1;33m\u001b[0m\u001b[1;33m\u001b[0m\u001b[0m\n\u001b[1;32m----> 2\u001b[1;33m \u001b[1;32mfrom\u001b[0m \u001b[0mutils\u001b[0m \u001b[1;32mimport\u001b[0m \u001b[0mdecorate\u001b[0m\u001b[1;33m\u001b[0m\u001b[1;33m\u001b[0m\u001b[0m\n\u001b[0m\u001b[0;32m      3\u001b[0m \u001b[1;33m\u001b[0m\u001b[0m\n\u001b[0;32m      4\u001b[0m \u001b[1;32mdef\u001b[0m \u001b[0mplot_data\u001b[0m\u001b[1;33m(\u001b[0m\u001b[0mdata\u001b[0m\u001b[1;33m)\u001b[0m\u001b[1;33m:\u001b[0m\u001b[1;33m\u001b[0m\u001b[1;33m\u001b[0m\u001b[0m\n\u001b[0;32m      5\u001b[0m     \"\"\"Plot damage as a function of temperature.\n",
      "\u001b[1;31mModuleNotFoundError\u001b[0m: No module named 'utils'"
     ]
    }
   ],
   "source": [
    "import matplotlib.pyplot as plt\n",
    "from utils import decorate\n",
    "\n",
    "def plot_data(data):\n",
    "    \"\"\"Plot damage as a function of temperature.\n",
    "    \n",
    "    data: DataFrame\n",
    "    \"\"\"\n",
    "    plt.plot(data['Temperature'], data['Damage'], 'o', \n",
    "             label='data', color='C0', alpha=0.4)\n",
    "\n",
    "    decorate(ylabel=\"Probability of damage\",\n",
    "         xlabel=\"Outside temperature (deg F)\",\n",
    "         title=\"Damage to O-Rings vs Temperature\")"
   ]
  },
  {
   "cell_type": "code",
   "execution_count": 4,
   "id": "d585e387-57c8-48bb-9832-064432869e33",
   "metadata": {},
   "outputs": [
    {
     "ename": "NameError",
     "evalue": "name 'plot_data' is not defined",
     "output_type": "error",
     "traceback": [
      "\u001b[1;31m---------------------------------------------------------------------------\u001b[0m",
      "\u001b[1;31mNameError\u001b[0m                                 Traceback (most recent call last)",
      "\u001b[1;32m<ipython-input-4-e99b069b2cf4>\u001b[0m in \u001b[0;36m<module>\u001b[1;34m\u001b[0m\n\u001b[1;32m----> 1\u001b[1;33m \u001b[0mplot_data\u001b[0m\u001b[1;33m(\u001b[0m\u001b[0mdata\u001b[0m\u001b[1;33m)\u001b[0m\u001b[1;33m\u001b[0m\u001b[1;33m\u001b[0m\u001b[0m\n\u001b[0m",
      "\u001b[1;31mNameError\u001b[0m: name 'plot_data' is not defined"
     ]
    }
   ],
   "source": [
    "plot_data(data)"
   ]
  },
  {
   "cell_type": "markdown",
   "id": "533d4ca4-34f6-433e-816a-390b119c661a",
   "metadata": {},
   "source": [
    "A link function’s job is to map the linear space of a model\n",
    "like α + β(xi − ¯x) onto the non-linear space of a parameter like θ. So f is chosen with that\n",
    "goal in mind. Most of the time, for most GLMs, you can use one of two exceedingly common\n",
    "links, a logit link or a log link. Let’s introduce each, and you’ll work with both in later chapters.\n",
    "The logit link maps a parameter that is defined as a probability mass, and therefore\n",
    "constrained to lie between zero and one, onto a linear model that can take on any real value.\n",
    "This link is extremely common when working with binomial GLMs. In the context of a\n",
    "model definition, it looks like this:\n",
    "yi ∼ Binomial(n, pi)\n",
    "logit(pi) = α + βxi\n",
    "And the logit function itself is defined as the log-odds:\n",
    "logit(pi) = log pi/1 − p\n",
    "\n",
    "\n",
    "\n",
    "\n",
    "pi =\n",
    "exp(α + βxi)\n",
    "1 + exp(α + βxi)\n"
   ]
  },
  {
   "cell_type": "code",
   "execution_count": null,
   "id": "2a9ebd8e-cc72-4e4a-955e-7a17281aff4a",
   "metadata": {},
   "outputs": [],
   "source": [
    "with pm.Model() as mChallneger:\n",
    "      beta = pm.Normal(\"beta\", mu=0, tau=0.001, testval=0)\n",
    "      alpha = pm.Normal(\"alpha\", mu=0, tau=0.001, testval=0)\n",
    "   # p = pm.Deterministic(\"p\", 1.0/(1. + tt.exp(beta*temperature + alpha)))\n",
    "  \n",
    "\n",
    "      p = pm.math.invlogit(beta*data['Temperature'] + alpha )\n",
    "\n",
    "     y = pm.Binomial(\"y\", 1, p, observed=d.)\n",
    "\n",
    "     burned_trace = pm.sample()"
   ]
  },
  {
   "cell_type": "code",
   "execution_count": null,
   "id": "a92237fd-f372-4324-8fb3-4722ce5a59e4",
   "metadata": {},
   "outputs": [],
   "source": [
    "alpha_samples = burned_trace[\"alpha\"][:, None]  # best to make them 1d\n",
    "beta_samples = burned_trace[\"beta\"][:, None]\n",
    "\n",
    "figsize(12.5, 6)\n",
    "\n",
    "#histogram of the samples:\n",
    "plt.subplot(211)\n",
    "plt.title(r\"Posterior distributions of the variables $\\alpha, \\beta$\")\n",
    "plt.hist(beta_samples, histtype='stepfilled', bins=35, alpha=0.85,\n",
    "         label=r\"posterior of $\\beta$\", color=\"#7A68A6\", normed=True)\n",
    "plt.legend()\n",
    "\n",
    "plt.subplot(212)\n",
    "plt.hist(alpha_samples, histtype='stepfilled', bins=35, alpha=0.85,\n",
    "         label=r\"posterior of $\\alpha$\", color=\"#A60628\", normed=True)\n",
    "plt.legend();"
   ]
  },
  {
   "cell_type": "code",
   "execution_count": null,
   "id": "291317c1-cbf4-423d-be46-16f5ff75f96c",
   "metadata": {},
   "outputs": [],
   "source": [
    "t = np.linspace(temperature.min() - 5, temperature.max()+5, 50)[:, None]\n",
    "p_t = logistic(t.T, beta_samples, alpha_samples)\n",
    "\n",
    "mean_prob_t = p_t.mean(axis=0)"
   ]
  },
  {
   "cell_type": "code",
   "execution_count": null,
   "id": "5afa1e21-dabe-4716-82b0-a511aef6e4c2",
   "metadata": {},
   "outputs": [],
   "source": [
    "figsize(12.5, 4)\n",
    "\n",
    "plt.plot(t, mean_prob_t, lw=3, label=\"average posterior \\nprobability \\\n",
    "of defect\")\n",
    "plt.plot(t, p_t[0, :], ls=\"--\", label=\"realization from posterior\")\n",
    "plt.plot(t, p_t[-2, :], ls=\"--\", label=\"realization from posterior\")\n",
    "plt.scatter(temperature, D, color=\"k\", s=50, alpha=0.5)\n",
    "plt.title(\"Posterior expected value of probability of defect; \\\n",
    "plus realizations\")\n",
    "plt.legend(loc=\"lower left\")\n",
    "plt.ylim(-0.1, 1.1)\n",
    "plt.xlim(t.min(), t.max())\n",
    "plt.ylabel(\"probability\")\n",
    "plt.xlabel(\"temperature\");"
   ]
  },
  {
   "cell_type": "code",
   "execution_count": 5,
   "id": "94868d79-4f9d-457e-abba-44da3d915a6c",
   "metadata": {},
   "outputs": [
    {
     "ename": "NameError",
     "evalue": "name 'p_t' is not defined",
     "output_type": "error",
     "traceback": [
      "\u001b[1;31m---------------------------------------------------------------------------\u001b[0m",
      "\u001b[1;31mNameError\u001b[0m                                 Traceback (most recent call last)",
      "\u001b[1;32m<ipython-input-5-ed1a89d84c0a>\u001b[0m in \u001b[0;36m<module>\u001b[1;34m\u001b[0m\n\u001b[0;32m      2\u001b[0m \u001b[1;33m\u001b[0m\u001b[0m\n\u001b[0;32m      3\u001b[0m \u001b[1;31m# vectorized bottom and top 2.5% quantiles for \"confidence interval\"\u001b[0m\u001b[1;33m\u001b[0m\u001b[1;33m\u001b[0m\u001b[1;33m\u001b[0m\u001b[0m\n\u001b[1;32m----> 4\u001b[1;33m \u001b[0mqs\u001b[0m \u001b[1;33m=\u001b[0m \u001b[0mmquantiles\u001b[0m\u001b[1;33m(\u001b[0m\u001b[0mp_t\u001b[0m\u001b[1;33m,\u001b[0m \u001b[1;33m[\u001b[0m\u001b[1;36m0.025\u001b[0m\u001b[1;33m,\u001b[0m \u001b[1;36m0.975\u001b[0m\u001b[1;33m]\u001b[0m\u001b[1;33m,\u001b[0m \u001b[0maxis\u001b[0m\u001b[1;33m=\u001b[0m\u001b[1;36m0\u001b[0m\u001b[1;33m)\u001b[0m\u001b[1;33m\u001b[0m\u001b[1;33m\u001b[0m\u001b[0m\n\u001b[0m\u001b[0;32m      5\u001b[0m plt.fill_between(t[:, 0], *qs, alpha=0.7,\n\u001b[0;32m      6\u001b[0m                  color=\"#7A68A6\")\n",
      "\u001b[1;31mNameError\u001b[0m: name 'p_t' is not defined"
     ]
    }
   ],
   "source": [
    "from scipy.stats.mstats import mquantiles\n",
    "\n",
    "# vectorized bottom and top 2.5% quantiles for \"confidence interval\"\n",
    "qs = mquantiles(p_t, [0.025, 0.975], axis=0)\n",
    "plt.fill_between(t[:, 0], *qs, alpha=0.7,\n",
    "                 color=\"#7A68A6\")\n",
    "\n",
    "plt.plot(t[:, 0], qs[0], label=\"95% CI\", color=\"#7A68A6\", alpha=0.7)\n",
    "\n",
    "plt.plot(t, mean_prob_t, lw=1, ls=\"--\", color=\"k\",\n",
    "         label=\"average posterior \\nprobability of defect\")\n",
    "\n",
    "plt.xlim(t.min(), t.max())\n",
    "plt.ylim(-0.02, 1.02)\n",
    "plt.legend(loc=\"lower left\")\n",
    "plt.scatter(temperature, D, color=\"k\", s=50, alpha=0.5)\n",
    "plt.xlabel(\"temp, $t$\")\n",
    "\n",
    "plt.ylabel(\"probability estimate\")\n",
    "plt.title(\"Posterior probability estimates given temp. $t$\");"
   ]
  },
  {
   "cell_type": "code",
   "execution_count": null,
   "id": "0694df39-df57-4ddc-ab7e-60a2439c2cea",
   "metadata": {},
   "outputs": [],
   "source": [
    "def logistic(x, beta, alpha=0):\n",
    "    return 1.0 / (1.0 + np.exp(np.dot(beta, x) + alpha))\n",
    "\n",
    "\n",
    "figsize(12.5, 2.5)\n",
    "\n",
    "prob_31 = logistic(31, beta_samples, alpha_samples)\n",
    "\n",
    "plt.xlim(0.995, 1)\n",
    "plt.hist(prob_31, bins=1000, normed=True, histtype='stepfilled')\n",
    "plt.title(\"Posterior distribution of probability of defect, given $t = 31$\")\n",
    "plt.xlabel(\"probability of defect occurring in O-ring\");"
   ]
  },
  {
   "cell_type": "markdown",
   "id": "c5bd78c5-7446-4d63-8804-6802b21562df",
   "metadata": {},
   "source": [
    "Gender and Admission"
   ]
  },
  {
   "cell_type": "code",
   "execution_count": 6,
   "id": "22346c1f-d1bd-40a3-86e8-5c401d4f76ef",
   "metadata": {},
   "outputs": [
    {
     "ename": "NameError",
     "evalue": "name 'pd' is not defined",
     "output_type": "error",
     "traceback": [
      "\u001b[1;31m---------------------------------------------------------------------------\u001b[0m",
      "\u001b[1;31mNameError\u001b[0m                                 Traceback (most recent call last)",
      "\u001b[1;32m<ipython-input-6-f8fc4ebe0284>\u001b[0m in \u001b[0;36m<module>\u001b[1;34m\u001b[0m\n\u001b[1;32m----> 1\u001b[1;33m \u001b[0md_ad\u001b[0m \u001b[1;33m=\u001b[0m \u001b[0mpd\u001b[0m\u001b[1;33m.\u001b[0m\u001b[0mread_csv\u001b[0m\u001b[1;33m(\u001b[0m\u001b[1;34m\"Data/UCBadmit.csv\"\u001b[0m\u001b[1;33m,\u001b[0m \u001b[0msep\u001b[0m\u001b[1;33m=\u001b[0m\u001b[1;34m\";\"\u001b[0m\u001b[1;33m)\u001b[0m\u001b[1;33m\u001b[0m\u001b[1;33m\u001b[0m\u001b[0m\n\u001b[0m\u001b[0;32m      2\u001b[0m \u001b[0md_ad\u001b[0m\u001b[1;33m\u001b[0m\u001b[1;33m\u001b[0m\u001b[0m\n",
      "\u001b[1;31mNameError\u001b[0m: name 'pd' is not defined"
     ]
    }
   ],
   "source": [
    "d_ad = pd.read_csv(\"Data/UCBadmit.csv\", sep=\";\")\n",
    "d_ad"
   ]
  },
  {
   "cell_type": "markdown",
   "id": "eef5b5c5-9bc9-4995-92a0-5c78342137cf",
   "metadata": {},
   "source": [
    "Our job is to evaluate whether these data contain evidence of gender bias in admissions.\n",
    "We will model the admission decisions, focusing on applicant gender as a predictor variable.\n",
    "So we want to fit a binomial regression that models admit as a function of each applicant’s\n",
    "gender. This will estimate the association between gender and probability of admission. This\n",
    "is what the model looks like, in mathematical form:\n",
    "\n",
    "Ai ∼ Binomial(Ni, pi)\n",
    "\n",
    "logit(pi) = αgid[i]\n",
    "\n",
    "αj ∼ Normal(0, 1.5)\n"
   ]
  },
  {
   "cell_type": "code",
   "execution_count": 7,
   "id": "bbacf149-0515-4353-a56d-16c302463619",
   "metadata": {},
   "outputs": [
    {
     "ename": "NameError",
     "evalue": "name 'd_ad' is not defined",
     "output_type": "error",
     "traceback": [
      "\u001b[1;31m---------------------------------------------------------------------------\u001b[0m",
      "\u001b[1;31mNameError\u001b[0m                                 Traceback (most recent call last)",
      "\u001b[1;32m<ipython-input-7-78294fb41f62>\u001b[0m in \u001b[0;36m<module>\u001b[1;34m\u001b[0m\n\u001b[1;32m----> 1\u001b[1;33m \u001b[0mgid\u001b[0m \u001b[1;33m=\u001b[0m \u001b[1;33m(\u001b[0m\u001b[0md_ad\u001b[0m\u001b[1;33m[\u001b[0m\u001b[1;34m\"applicant.gender\"\u001b[0m\u001b[1;33m]\u001b[0m \u001b[1;33m==\u001b[0m \u001b[1;34m\"female\"\u001b[0m\u001b[1;33m)\u001b[0m\u001b[1;33m.\u001b[0m\u001b[0mastype\u001b[0m\u001b[1;33m(\u001b[0m\u001b[0mint\u001b[0m\u001b[1;33m)\u001b[0m\u001b[1;33m.\u001b[0m\u001b[0mvalues\u001b[0m\u001b[1;33m\u001b[0m\u001b[1;33m\u001b[0m\u001b[0m\n\u001b[0m\u001b[0;32m      2\u001b[0m \u001b[1;33m\u001b[0m\u001b[0m\n\u001b[0;32m      3\u001b[0m \u001b[1;32mwith\u001b[0m \u001b[0mpm\u001b[0m\u001b[1;33m.\u001b[0m\u001b[0mModel\u001b[0m\u001b[1;33m(\u001b[0m\u001b[1;33m)\u001b[0m \u001b[1;32mas\u001b[0m \u001b[0mm11_7\u001b[0m\u001b[1;33m:\u001b[0m\u001b[1;33m\u001b[0m\u001b[1;33m\u001b[0m\u001b[0m\n\u001b[0;32m      4\u001b[0m     \u001b[0ma\u001b[0m \u001b[1;33m=\u001b[0m \u001b[0mpm\u001b[0m\u001b[1;33m.\u001b[0m\u001b[0mNormal\u001b[0m\u001b[1;33m(\u001b[0m\u001b[1;34m\"a\"\u001b[0m\u001b[1;33m,\u001b[0m \u001b[1;36m0\u001b[0m\u001b[1;33m,\u001b[0m \u001b[1;36m1.5\u001b[0m\u001b[1;33m,\u001b[0m \u001b[0mshape\u001b[0m\u001b[1;33m=\u001b[0m\u001b[1;36m2\u001b[0m\u001b[1;33m)\u001b[0m\u001b[1;33m\u001b[0m\u001b[1;33m\u001b[0m\u001b[0m\n\u001b[0;32m      5\u001b[0m     \u001b[0mp\u001b[0m \u001b[1;33m=\u001b[0m \u001b[0mpm\u001b[0m\u001b[1;33m.\u001b[0m\u001b[0mDeterministic\u001b[0m\u001b[1;33m(\u001b[0m\u001b[1;34m\"p\"\u001b[0m\u001b[1;33m,\u001b[0m \u001b[0mpm\u001b[0m\u001b[1;33m.\u001b[0m\u001b[0mmath\u001b[0m\u001b[1;33m.\u001b[0m\u001b[0minvlogit\u001b[0m\u001b[1;33m(\u001b[0m\u001b[0ma\u001b[0m\u001b[1;33m[\u001b[0m\u001b[0mgid\u001b[0m\u001b[1;33m]\u001b[0m\u001b[1;33m)\u001b[0m\u001b[1;33m)\u001b[0m\u001b[1;33m\u001b[0m\u001b[1;33m\u001b[0m\u001b[0m\n",
      "\u001b[1;31mNameError\u001b[0m: name 'd_ad' is not defined"
     ]
    }
   ],
   "source": [
    "gid = (d_ad[\"applicant.gender\"] == \"female\").astype(int).values\n",
    "\n",
    "with pm.Model() as m11_7:\n",
    "    a = pm.Normal(\"a\", 0, 1.5, shape=2)\n",
    "    p = pm.Deterministic(\"p\", pm.math.invlogit(a[gid]))\n",
    "\n",
    "    admit = pm.Binomial(\"admit\", p=p, n=d_ad.applications, observed=d_ad.admit)\n",
    "\n",
    "    trace_11_7 = pm.sample(random_seed=RANDOM_SEED)\n",
    "az.summary(trace_11_7, var_names=[\"a\"], round_to=2)"
   ]
  },
  {
   "cell_type": "code",
   "execution_count": null,
   "id": "3afd7f45-3688-4db3-a06a-487ca15d7a04",
   "metadata": {},
   "outputs": [],
   "source": []
  },
  {
   "cell_type": "markdown",
   "id": "2ab6635e-02b2-4b43-ade9-22bed9a50f20",
   "metadata": {},
   "source": [
    "The posterior for male applicants, a[1], is higher than that of female applicants. How much\n",
    "higher? We need to compute the contrast. Let’s calculate the contrast on the logit scale\n",
    " as well as the contrast on the outcome scale :"
   ]
  },
  {
   "cell_type": "code",
   "execution_count": 8,
   "id": "a0af7c8e-905b-4395-99ae-4c89ab1f1eb7",
   "metadata": {},
   "outputs": [
    {
     "ename": "NameError",
     "evalue": "name 'trace_11_7' is not defined",
     "output_type": "error",
     "traceback": [
      "\u001b[1;31m---------------------------------------------------------------------------\u001b[0m",
      "\u001b[1;31mNameError\u001b[0m                                 Traceback (most recent call last)",
      "\u001b[1;32m<ipython-input-8-d0b3631af665>\u001b[0m in \u001b[0;36m<module>\u001b[1;34m\u001b[0m\n\u001b[1;32m----> 1\u001b[1;33m \u001b[0mdiff_a\u001b[0m \u001b[1;33m=\u001b[0m \u001b[0mtrace_11_7\u001b[0m\u001b[1;33m[\u001b[0m\u001b[1;34m\"a\"\u001b[0m\u001b[1;33m]\u001b[0m\u001b[1;33m[\u001b[0m\u001b[1;33m:\u001b[0m\u001b[1;33m,\u001b[0m \u001b[1;36m0\u001b[0m\u001b[1;33m]\u001b[0m \u001b[1;33m-\u001b[0m \u001b[0mtrace_11_7\u001b[0m\u001b[1;33m[\u001b[0m\u001b[1;34m\"a\"\u001b[0m\u001b[1;33m]\u001b[0m\u001b[1;33m[\u001b[0m\u001b[1;33m:\u001b[0m\u001b[1;33m,\u001b[0m \u001b[1;36m1\u001b[0m\u001b[1;33m]\u001b[0m\u001b[1;33m\u001b[0m\u001b[1;33m\u001b[0m\u001b[0m\n\u001b[0m\u001b[0;32m      2\u001b[0m \u001b[0mdiff_p\u001b[0m \u001b[1;33m=\u001b[0m \u001b[0mlogistic\u001b[0m\u001b[1;33m(\u001b[0m\u001b[0mtrace_11_7\u001b[0m\u001b[1;33m[\u001b[0m\u001b[1;34m\"a\"\u001b[0m\u001b[1;33m]\u001b[0m\u001b[1;33m[\u001b[0m\u001b[1;33m:\u001b[0m\u001b[1;33m,\u001b[0m \u001b[1;36m0\u001b[0m\u001b[1;33m]\u001b[0m\u001b[1;33m)\u001b[0m \u001b[1;33m-\u001b[0m \u001b[0mlogistic\u001b[0m\u001b[1;33m(\u001b[0m\u001b[0mtrace_11_7\u001b[0m\u001b[1;33m[\u001b[0m\u001b[1;34m\"a\"\u001b[0m\u001b[1;33m]\u001b[0m\u001b[1;33m[\u001b[0m\u001b[1;33m:\u001b[0m\u001b[1;33m,\u001b[0m \u001b[1;36m1\u001b[0m\u001b[1;33m]\u001b[0m\u001b[1;33m)\u001b[0m\u001b[1;33m\u001b[0m\u001b[1;33m\u001b[0m\u001b[0m\n\u001b[0;32m      3\u001b[0m \u001b[0maz\u001b[0m\u001b[1;33m.\u001b[0m\u001b[0msummary\u001b[0m\u001b[1;33m(\u001b[0m\u001b[1;33m{\u001b[0m\u001b[1;34m\"diff_a\"\u001b[0m\u001b[1;33m:\u001b[0m \u001b[0mdiff_a\u001b[0m\u001b[1;33m,\u001b[0m \u001b[1;34m\"diff_p\"\u001b[0m\u001b[1;33m:\u001b[0m \u001b[0mdiff_p\u001b[0m\u001b[1;33m}\u001b[0m\u001b[1;33m,\u001b[0m \u001b[0mkind\u001b[0m\u001b[1;33m=\u001b[0m\u001b[1;34m\"stats\"\u001b[0m\u001b[1;33m,\u001b[0m \u001b[0mround_to\u001b[0m\u001b[1;33m=\u001b[0m\u001b[1;36m2\u001b[0m\u001b[1;33m)\u001b[0m\u001b[1;33m\u001b[0m\u001b[1;33m\u001b[0m\u001b[0m\n",
      "\u001b[1;31mNameError\u001b[0m: name 'trace_11_7' is not defined"
     ]
    }
   ],
   "source": [
    "diff_a = trace_11_7[\"a\"][:, 0] - trace_11_7[\"a\"][:, 1]\n",
    "diff_p = logistic(trace_11_7[\"a\"][:, 0]) - logistic(trace_11_7[\"a\"][:, 1])\n",
    "az.summary({\"diff_a\": diff_a, \"diff_p\": diff_p}, kind=\"stats\", round_to=2)"
   ]
  },
  {
   "cell_type": "markdown",
   "id": "626a0deb-8bd5-4249-9342-125fcee1634f",
   "metadata": {},
   "source": [
    "The log-odds difference is certainly positive, corresponding to a higher probability of admis\u0002sion for male applicants. On the probability scale itself, the difference is somewhere between\n",
    "12% and 16%."
   ]
  },
  {
   "cell_type": "code",
   "execution_count": 9,
   "id": "4a92d5ff-295a-462e-9110-2447ea46c4aa",
   "metadata": {},
   "outputs": [
    {
     "ename": "NameError",
     "evalue": "name 'm11_7' is not defined",
     "output_type": "error",
     "traceback": [
      "\u001b[1;31m---------------------------------------------------------------------------\u001b[0m",
      "\u001b[1;31mNameError\u001b[0m                                 Traceback (most recent call last)",
      "\u001b[1;32m<ipython-input-9-19baacb88a0c>\u001b[0m in \u001b[0;36m<module>\u001b[1;34m\u001b[0m\n\u001b[1;32m----> 1\u001b[1;33m \u001b[1;32mwith\u001b[0m \u001b[0mm11_7\u001b[0m\u001b[1;33m:\u001b[0m\u001b[1;33m\u001b[0m\u001b[1;33m\u001b[0m\u001b[0m\n\u001b[0m\u001b[0;32m      2\u001b[0m     ppc = pm.sample_posterior_predictive(trace_11_7, random_seed=RANDOM_SEED, var_names=[\"admit\"])[\n\u001b[0;32m      3\u001b[0m         \u001b[1;34m\"admit\"\u001b[0m\u001b[1;33m\u001b[0m\u001b[1;33m\u001b[0m\u001b[0m\n\u001b[0;32m      4\u001b[0m     ]\n\u001b[0;32m      5\u001b[0m \u001b[0mpp_admit\u001b[0m \u001b[1;33m=\u001b[0m \u001b[0mppc\u001b[0m \u001b[1;33m/\u001b[0m \u001b[0md_ad\u001b[0m\u001b[1;33m.\u001b[0m\u001b[0mapplications\u001b[0m\u001b[1;33m.\u001b[0m\u001b[0mvalues\u001b[0m\u001b[1;33m[\u001b[0m\u001b[1;32mNone\u001b[0m\u001b[1;33m,\u001b[0m \u001b[1;33m:\u001b[0m\u001b[1;33m]\u001b[0m\u001b[1;33m\u001b[0m\u001b[1;33m\u001b[0m\u001b[0m\n",
      "\u001b[1;31mNameError\u001b[0m: name 'm11_7' is not defined"
     ]
    }
   ],
   "source": [
    "with m11_7:\n",
    "    ppc = pm.sample_posterior_predictive(trace_11_7, random_seed=RANDOM_SEED, var_names=[\"admit\"])[\n",
    "        \"admit\"\n",
    "    ]\n",
    "pp_admit = ppc / d_ad.applications.values[None, :]"
   ]
  },
  {
   "cell_type": "code",
   "execution_count": null,
   "id": "1664f8f0-4cc0-4861-b2b9-673308f8a1b7",
   "metadata": {},
   "outputs": [],
   "source": [
    "for i in range(6):\n",
    "    x = 1 + 2 * i\n",
    "\n",
    "    y1 = d_ad.admit[x] / d_ad.applications[x]\n",
    "    y2 = d_ad.admit[x + 1] / d_ad.applications[x + 1]\n",
    "\n",
    "    plt.plot([x, x + 1], [y1, y2], \"-C0o\", alpha=0.6, lw=2)\n",
    "    plt.text(x + 0.25, (y1 + y2) / 2 + 0.05, d_ad.dept[x])\n",
    "\n",
    "plt.plot(range(1, 13), trace_11_7[\"p\"].mean(0), \"ko\", fillstyle=\"none\", ms=6, alpha=0.6)\n",
    "plt.plot([range(1, 13), range(1, 13)], az.hpd(trace_11_7[\"p\"]).T, \"k-\", lw=1, alpha=0.6)\n",
    "plt.plot([range(1, 13), range(1, 13)], az.hpd(pp_admit).T, \"k+\", ms=6, alpha=0.6)\n",
    "\n",
    "plt.xlabel(\"case\")\n",
    "plt.ylabel(\"admit\")\n",
    "plt.title(\"Posterior validation check\")\n",
    "plt.ylim(0, 1);"
   ]
  },
  {
   "cell_type": "markdown",
   "id": "08b9471b-5d12-481b-ab6c-13f71840c3f9",
   "metadata": {},
   "source": [
    "Those are pretty terrible predictions. There are only two\n",
    "departments in which females had a lower rate of admission than males (C and E), and yet\n",
    "the model says that females should expect to have a 14% lower chance of admission.\n",
    "Sometimes a fit this bad is the result of a coding mistake. In this case, it is not. The\n",
    "model did correctly answer the question we asked of it: What are the average probabilities\n",
    "of admission for females and males, across all departments? The problem in this case is that\n",
    "males and females do not apply to the same departments, and departments vary in their rates\n",
    "of admission. This makes the answer misleading. You can see the steady decline in admission\n",
    "probability for both males and females from department A to department F. Females in these\n",
    "data tended not to apply to departments like A and B, which had high overall admission rates.\n",
    "Instead they applied in large numbers to departments like F, which admitted less than 10%\n",
    "of applicants.\n",
    "\n",
    "So while it is true overall that females had a lower probability of admission in these data,\n",
    "it is clearly not true within most departments. And note that just inspecting the posterior\n",
    "distribution alone would never have revealed that fact to us. We had to appeal to something\n",
    "outside the fit model. In this case, it was a simple posterior validation check.\n",
    "\n",
    "\n",
    "Instead of asking “What are the average probabilities of admission for females and males\n",
    "across all departments?” we want to ask “What is the average difference in probability of admis\u0002sion between females and males within departments?” In order to ask the second question, we\n",
    "estimate unique female and male admission rates in each department. Here’s a model that\n",
    "asks this new question:\n",
    "\n",
    "Ai ∼ Binomial(Ni\n",
    ", pi)\n",
    "\n",
    "logit(pi) = αgid[i] + δdept[i]\n",
    "αj ∼ Normal(0, 1.5)\n",
    "\n",
    "δk ∼ Normal(0, 1.5)\n",
    "\n"
   ]
  },
  {
   "cell_type": "code",
   "execution_count": null,
   "id": "5b1c2e4d-0a7a-453f-a843-be8499766af5",
   "metadata": {},
   "outputs": [],
   "source": [
    "dept_id = pd.Categorical(d_ad[\"dept\"]).codes\n",
    "\n",
    "with pm.Model() as m11_8:\n",
    "    a = pm.Normal(\"a\", 0, 1.5, shape=2)\n",
    "    delta = pm.Normal(\"delta\", 0, 1.5, shape=6)\n",
    "\n",
    "    p = pm.math.invlogit(a[gid] + delta[dept_id])\n",
    "\n",
    "    admit = pm.Binomial(\"admit\", p=p, n=d_ad.applications, observed=d_ad.admit)\n",
    "\n",
    "    trace_11_8 = pm.sample(2000, random_seed=RANDOM_SEED)\n",
    "az.summary(trace_11_8, round_to=2)"
   ]
  },
  {
   "cell_type": "markdown",
   "id": "31d64b99-ebb3-48f5-847c-714bb474e086",
   "metadata": {},
   "source": [
    "The intercept for male applicants, a[1], is now a little smaller on average than the one for\n",
    "female applicants. Let’s calculate the contrasts against, both on relative and absolute\n",
    " scales:"
   ]
  },
  {
   "cell_type": "code",
   "execution_count": 10,
   "id": "4ab8cc84-4b05-42c4-9162-c96da6602004",
   "metadata": {},
   "outputs": [
    {
     "ename": "NameError",
     "evalue": "name 'trace_11_8' is not defined",
     "output_type": "error",
     "traceback": [
      "\u001b[1;31m---------------------------------------------------------------------------\u001b[0m",
      "\u001b[1;31mNameError\u001b[0m                                 Traceback (most recent call last)",
      "\u001b[1;32m<ipython-input-10-124c84a82d38>\u001b[0m in \u001b[0;36m<module>\u001b[1;34m\u001b[0m\n\u001b[1;32m----> 1\u001b[1;33m \u001b[0mdiff_a\u001b[0m \u001b[1;33m=\u001b[0m \u001b[0mtrace_11_8\u001b[0m\u001b[1;33m[\u001b[0m\u001b[1;34m\"a\"\u001b[0m\u001b[1;33m]\u001b[0m\u001b[1;33m[\u001b[0m\u001b[1;33m:\u001b[0m\u001b[1;33m,\u001b[0m \u001b[1;36m0\u001b[0m\u001b[1;33m]\u001b[0m \u001b[1;33m-\u001b[0m \u001b[0mtrace_11_8\u001b[0m\u001b[1;33m[\u001b[0m\u001b[1;34m\"a\"\u001b[0m\u001b[1;33m]\u001b[0m\u001b[1;33m[\u001b[0m\u001b[1;33m:\u001b[0m\u001b[1;33m,\u001b[0m \u001b[1;36m1\u001b[0m\u001b[1;33m]\u001b[0m\u001b[1;33m\u001b[0m\u001b[1;33m\u001b[0m\u001b[0m\n\u001b[0m\u001b[0;32m      2\u001b[0m \u001b[0mdiff_p\u001b[0m \u001b[1;33m=\u001b[0m \u001b[0mlogistic\u001b[0m\u001b[1;33m(\u001b[0m\u001b[0mtrace_11_8\u001b[0m\u001b[1;33m[\u001b[0m\u001b[1;34m\"a\"\u001b[0m\u001b[1;33m]\u001b[0m\u001b[1;33m[\u001b[0m\u001b[1;33m:\u001b[0m\u001b[1;33m,\u001b[0m \u001b[1;36m0\u001b[0m\u001b[1;33m]\u001b[0m\u001b[1;33m)\u001b[0m \u001b[1;33m-\u001b[0m \u001b[0mlogistic\u001b[0m\u001b[1;33m(\u001b[0m\u001b[0mtrace_11_8\u001b[0m\u001b[1;33m[\u001b[0m\u001b[1;34m\"a\"\u001b[0m\u001b[1;33m]\u001b[0m\u001b[1;33m[\u001b[0m\u001b[1;33m:\u001b[0m\u001b[1;33m,\u001b[0m \u001b[1;36m1\u001b[0m\u001b[1;33m]\u001b[0m\u001b[1;33m)\u001b[0m\u001b[1;33m\u001b[0m\u001b[1;33m\u001b[0m\u001b[0m\n\u001b[0;32m      3\u001b[0m \u001b[0maz\u001b[0m\u001b[1;33m.\u001b[0m\u001b[0msummary\u001b[0m\u001b[1;33m(\u001b[0m\u001b[1;33m{\u001b[0m\u001b[1;34m\"diff_a\"\u001b[0m\u001b[1;33m:\u001b[0m \u001b[0mdiff_a\u001b[0m\u001b[1;33m,\u001b[0m \u001b[1;34m\"diff_p\"\u001b[0m\u001b[1;33m:\u001b[0m \u001b[0mdiff_p\u001b[0m\u001b[1;33m}\u001b[0m\u001b[1;33m,\u001b[0m \u001b[0mkind\u001b[0m\u001b[1;33m=\u001b[0m\u001b[1;34m\"stats\"\u001b[0m\u001b[1;33m,\u001b[0m \u001b[0mround_to\u001b[0m\u001b[1;33m=\u001b[0m\u001b[1;36m2\u001b[0m\u001b[1;33m)\u001b[0m\u001b[1;33m\u001b[0m\u001b[1;33m\u001b[0m\u001b[0m\n",
      "\u001b[1;31mNameError\u001b[0m: name 'trace_11_8' is not defined"
     ]
    }
   ],
   "source": [
    "diff_a = trace_11_8[\"a\"][:, 0] - trace_11_8[\"a\"][:, 1]\n",
    "diff_p = logistic(trace_11_8[\"a\"][:, 0]) - logistic(trace_11_8[\"a\"][:, 1])\n",
    "az.summary({\"diff_a\": diff_a, \"diff_p\": diff_p}, kind=\"stats\", round_to=2)"
   ]
  },
  {
   "cell_type": "code",
   "execution_count": null,
   "id": "4e8855d1-c8e4-4c9a-9647-2f4c8ee98a11",
   "metadata": {},
   "outputs": [],
   "source": [
    "pg = pd.DataFrame(index=[\"male\", \"female\"], columns=d_ad.dept.unique())\n",
    "for dep in pg.columns:\n",
    "    pg[dep] = (\n",
    "        d_ad.loc[d_ad.dept == dep, \"applications\"]\n",
    "        / d_ad.loc[d_ad.dept == dep, \"applications\"].sum()\n",
    "    ).values\n",
    "pg.round(2)"
   ]
  },
  {
   "cell_type": "markdown",
   "id": "e4111dcf-65fa-443c-844c-d9abaaf8d612",
   "metadata": {},
   "source": [
    "Poisson Regression\n",
    "\n",
    "\n",
    "\n",
    "Binomial GLMs are appropriate when the outcome is a count from zero to some known\n",
    "upper bound. If you can analogize the data to the globe tossing model, then you should\n",
    "use a binomial GLM. But often the upper bound isn’t know. Instead the counts never get\n",
    "close to any upper limit. For example, if we go fishing and return with 17 fish, what was the\n",
    "theoretical maximum? Whatever it is, it isn’t in our data. How do we model the fish counts?\n",
    "\n",
    "\n",
    "\n",
    "\n",
    "yi ∼ Poisson(λ)\n",
    "The parameter λ is the expected value of the outcome y. It is also the expected variance of\n",
    "the counts y.\n",
    "We also need a link function. The conventional link function for a Poisson model is the\n",
    "log link,. So to embed a linear model, we\n",
    "use:\n",
    "yi ∼ Poisson(λi)\n",
    "log(λi) = α + β(xi − ¯x)\n",
    "\n",
    "\n",
    "Example\n",
    "\n",
    "The island societies of Oceania provide a natu\u0002ral experiment in technological evolution. Different historical island populations possessed\n",
    "tool kits of different size. These kits include fish hooks, axes, boats, hand plows, and many\n",
    "other types of tools. A number of theories predict that larger populations will both develop\n",
    "and sustain more complex tool kits. So the natural variation in population size induced by\n",
    "natural variation in island size in Oceania provides a natural experiment to test these ideas.\n",
    "It’s also suggested that contact rates among populations effectively increase population size,\n",
    "as it’s relevant to technological evolution. So variation in contact rates among Oceanic soci\u0002eties is also relevant"
   ]
  },
  {
   "cell_type": "code",
   "execution_count": 11,
   "id": "30189961-ee36-4d55-a7d7-ddd47a48313e",
   "metadata": {},
   "outputs": [
    {
     "ename": "NameError",
     "evalue": "name 'pd' is not defined",
     "output_type": "error",
     "traceback": [
      "\u001b[1;31m---------------------------------------------------------------------------\u001b[0m",
      "\u001b[1;31mNameError\u001b[0m                                 Traceback (most recent call last)",
      "\u001b[1;32m<ipython-input-11-2270be4c7b1c>\u001b[0m in \u001b[0;36m<module>\u001b[1;34m\u001b[0m\n\u001b[1;32m----> 1\u001b[1;33m \u001b[0mdk\u001b[0m \u001b[1;33m=\u001b[0m \u001b[0mpd\u001b[0m\u001b[1;33m.\u001b[0m\u001b[0mread_csv\u001b[0m\u001b[1;33m(\u001b[0m\u001b[1;34m\"Data/Kline\"\u001b[0m\u001b[1;33m,\u001b[0m \u001b[0msep\u001b[0m\u001b[1;33m=\u001b[0m\u001b[1;34m\";\"\u001b[0m\u001b[1;33m)\u001b[0m\u001b[1;33m\u001b[0m\u001b[1;33m\u001b[0m\u001b[0m\n\u001b[0m\u001b[0;32m      2\u001b[0m \u001b[0mdk\u001b[0m\u001b[1;33m\u001b[0m\u001b[1;33m\u001b[0m\u001b[0m\n",
      "\u001b[1;31mNameError\u001b[0m: name 'pd' is not defined"
     ]
    }
   ],
   "source": [
    "dk = pd.read_csv(\"Data/Kline\", sep=\";\")\n",
    "dk"
   ]
  },
  {
   "cell_type": "code",
   "execution_count": null,
   "id": "71b990b3-7659-411c-ba4d-b0053a326ef4",
   "metadata": {},
   "outputs": [],
   "source": [
    "\n",
    "\n",
    "P = standardize(np.log(dk.population)).values\n",
    "c_id = (dk.contact == \"high\").astype(int).values"
   ]
  },
  {
   "cell_type": "markdown",
   "id": "be8366ce-1525-4a6a-8250-bea93f6fb323",
   "metadata": {},
   "source": [
    "Ti ∼ Poisson(λi)\n",
    "log λi = α\n",
    "α ∼ Normal(0, 10)\n",
    "\n",
    "if a is normal then  lambda is lognormal.\n",
    "\n"
   ]
  },
  {
   "cell_type": "code",
   "execution_count": null,
   "id": "6f5c877a-d73a-4e66-b812-5b39406ebc4f",
   "metadata": {},
   "outputs": [],
   "source": [
    "ax = az.plot_kde(\n",
    "    pm.Lognormal.dist(0.0, 10.0).random(size=20_000),\n",
    "    label=\"a ~ LogNormal(0, 10)\",\n",
    "    plot_kwargs={\"color\": \"k\"},\n",
    ")\n",
    "ax.set_xlabel(\"mean number of tools\")\n",
    "ax.set_ylabel(\"Density\")\n",
    "ax.set_title(\"\");"
   ]
  },
  {
   "cell_type": "code",
   "execution_count": null,
   "id": "5d83d3ae-af13-4fcf-aa32-3004b7cba8f4",
   "metadata": {},
   "outputs": [],
   "source": [
    "ax = az.plot_kde(pm.Lognormal.dist(3.0, 0.5).random(size=20_000), label=\"a ~ LogNormal(3, 0.5)\")\n",
    "ax.set_xlabel(\"mean number of tools\")\n",
    "ax.set_ylabel(\"Density\")\n",
    "ax.set_title(\"\");"
   ]
  },
  {
   "cell_type": "code",
   "execution_count": null,
   "id": "bbe00d5e-f48e-4b60-b8a6-a75c027e1f50",
   "metadata": {},
   "outputs": [],
   "source": [
    "def kline_prior_plot(N: int = 100, b_prior: str = \"bespoke\", x_scale: str = \"stdz\", ax=None):\n",
    "    \"\"\"\n",
    "    Utility function to plot prior predictive checks for Kline Poisson model.\n",
    "    N: number of prior predictive trends.\n",
    "\n",
    "    \"\"\"\n",
    "    if ax is None:\n",
    "        _, ax = plt.subplots()\n",
    "    ax.set_ylabel(\"total tools\")\n",
    "\n",
    "    itcpts = np.random.normal(3.0, 0.5, N)\n",
    "    if b_prior == \"conventional\":\n",
    "        slopes = np.random.normal(0.0, 10.0, N)\n",
    "        ax.set_title(\"b ~ Normal(0, 10)\")\n",
    "    elif b_prior == \"bespoke\":\n",
    "        slopes = np.random.normal(0.0, 0.2, N)\n",
    "        ax.set_title(\"b ~ Normal(0, 0.2)\")\n",
    "    else:\n",
    "        raise ValueError(\n",
    "            \"Prior for slopes (b_prior) can only be either 'conventional' or 'bespoke'.\"\n",
    "        )\n",
    "\n",
    "    x_seq = np.linspace(np.log(100), np.log(200_000), N)\n",
    "    ax.set_ylim((0, 500))\n",
    "    if x_scale == \"log\":\n",
    "        for a, b in zip(itcpts, slopes):\n",
    "            ax.plot(x_seq, np.exp(a + b * x_seq), \"k\", alpha=0.4)\n",
    "        ax.set_xlabel(\"log population\")\n",
    "    elif x_scale == \"natural\":\n",
    "        for a, b in zip(itcpts, slopes):\n",
    "            ax.plot(np.exp(x_seq), np.exp(a + b * x_seq), \"k\", alpha=0.4)\n",
    "        ax.set_xlabel(\"population\")\n",
    "    else:\n",
    "        x_seq = np.linspace(-2, 2, N)\n",
    "        for a, b in zip(itcpts, slopes):\n",
    "            ax.plot(x_seq, np.exp(a + b * x_seq), \"k\", alpha=0.4)\n",
    "        ax.set_ylim((0, 100))\n",
    "        ax.set_xlabel(\"log population (std)\")\n",
    "\n",
    "    return ax"
   ]
  },
  {
   "cell_type": "code",
   "execution_count": null,
   "id": "f67f1b04-c122-4945-9e25-45b224ae3a80",
   "metadata": {},
   "outputs": [],
   "source": [
    "_, ax = plt.subplots(2, 2, figsize=(10, 10))\n",
    "kline_prior_plot(b_prior=\"conventional\", x_scale=\"stdz\", ax=ax[0][0])\n",
    "kline_prior_plot(b_prior=\"bespoke\", x_scale=\"stdz\", ax=ax[0][1])\n",
    "kline_prior_plot(b_prior=\"bespoke\", x_scale=\"log\", ax=ax[1][0])\n",
    "kline_prior_plot(x_scale=\"natural\", ax=ax[1][1])\n",
    "plt.tight_layout();"
   ]
  },
  {
   "cell_type": "code",
   "execution_count": null,
   "id": "5912cfd4-b10e-468c-9974-bd6b1697ef62",
   "metadata": {},
   "outputs": [],
   "source": [
    "# intercept only\n",
    "with pm.Model() as m11_9:\n",
    "    a = pm.Normal(\"a\", 3.0, 0.5)\n",
    "    T = pm.Poisson(\"total_tools\", pm.math.exp(a), observed=dk.total_tools)\n",
    "    trace_11_9 = pm.sample(tune=3000, random_seed=RANDOM_SEED)\n",
    "\n",
    "# interaction model\n",
    "with pm.Model() as m11_10:\n",
    "    a = pm.Normal(\"a\", 3.0, 0.5, shape=2)\n",
    "    b = pm.Normal(\"b\", 0.0, 0.2, shape=2)\n",
    "\n",
    "    cid = pm.intX(pm.Data(\"cid\", c_id))\n",
    "    P_ = pm.Data(\"P\", P)\n",
    "    lam = pm.math.exp(a[cid] + b[cid] * P_)\n",
    "\n",
    "    T = pm.Poisson(\"total_tools\", lam, observed=dk.total_tools)\n",
    "    trace_11_10 = pm.sample(tune=3000, random_seed=RANDOM_SEED)"
   ]
  },
  {
   "cell_type": "code",
   "execution_count": null,
   "id": "22a2e5e7-2d53-4264-87c9-22efd1686e17",
   "metadata": {},
   "outputs": [],
   "source": [
    "az.compare({\"m11_9\": trace_11_9, \"m11_10\": trace_11_10})"
   ]
  },
  {
   "cell_type": "code",
   "execution_count": null,
   "id": "b10e7cd3-d133-4914-9c9e-a36b677df688",
   "metadata": {},
   "outputs": [],
   "source": [
    "# store pareto-k values for plot:\n",
    "k = az.loo(trace_11_10, pointwise=True).pareto_k.values"
   ]
  },
  {
   "cell_type": "code",
   "execution_count": null,
   "id": "292ddf00-99b7-4d61-8536-0c3b0472ae83",
   "metadata": {},
   "outputs": [],
   "source": [
    "ns = 100\n",
    "P_seq = np.linspace(-1.4, 3.0, ns)\n",
    "\n",
    "with m11_10:\n",
    "    # predictions for cid=0 (low contact)\n",
    "    pm.set_data({\"cid\": np.array([0] * ns), \"P\": P_seq})\n",
    "    lam0 = pm.sample_posterior_predictive(trace_11_10, var_names=[\"total_tools\"])[\"total_tools\"]\n",
    "\n",
    "    # predictions for cid=1 (high contact)\n",
    "    pm.set_data({\"cid\": np.array([1] * ns)})\n",
    "    lam1 = pm.sample_posterior_predictive(trace_11_10, var_names=[\"total_tools\"])[\"total_tools\"]\n",
    "\n",
    "lmu0, lmu1 = lam0.mean(0), lam1.mean(0)"
   ]
  },
  {
   "cell_type": "code",
   "execution_count": null,
   "id": "a6fa30ac-f74f-4fbd-804b-0956119f4f2a",
   "metadata": {},
   "outputs": [],
   "source": [
    "_, (ax0, ax1) = plt.subplots(1, 2, figsize=(12, 6))\n",
    "\n",
    "# scale point size to Pareto-k:\n",
    "k /= k.max()\n",
    "psize = 250 * k\n",
    "\n",
    "# Plot on standardized log scale:\n",
    "\n",
    "az.plot_hpd(P_seq, lam1, color=\"b\", fill_kwargs={\"alpha\": 0.2}, ax=ax0)\n",
    "ax0.plot(P_seq, lmu1, color=\"b\", alpha=0.7, label=\"high contact mean\")\n",
    "\n",
    "az.plot_hpd(P_seq, lam0, color=\"k\", fill_kwargs={\"alpha\": 0.2}, ax=ax0)\n",
    "ax0.plot(P_seq, lmu0, \"--\", color=\"k\", alpha=0.7, label=\"low contact mean\")\n",
    "\n",
    "# display names and k:\n",
    "mask = k > 0.3\n",
    "labels = dk.culture.values[mask]\n",
    "for i, text in enumerate(labels):\n",
    "    ax0.text(\n",
    "        P[mask][i] - 0.2,\n",
    "        dk.total_tools.values[mask][i] + 4,\n",
    "        f\"{text} ({np.round(k[mask][i], 2)})\",\n",
    "        fontsize=8,\n",
    "    )\n",
    "\n",
    "# display observed data:\n",
    "index = c_id == 1\n",
    "ax0.scatter(\n",
    "    P[~index],\n",
    "    dk.total_tools[~index],\n",
    "    s=psize[~index],\n",
    "    facecolors=\"none\",\n",
    "    edgecolors=\"k\",\n",
    "    alpha=0.8,\n",
    "    lw=1,\n",
    "    label=\"low contact\",\n",
    ")\n",
    "ax0.scatter(P[index], dk.total_tools[index], s=psize[index], alpha=0.8, label=\"high contact\")\n",
    "ax0.set_xlabel(\"log population (std)\")\n",
    "ax0.set_ylabel(\"total tools\")\n",
    "ax0.legend(fontsize=8, ncol=2)\n",
    "\n",
    "# Plot on natural scale:\n",
    "# unstandardize and exponentiate values of standardized log pop:\n",
    "P_seq = np.linspace(-5.0, 3.0, ns)\n",
    "P_seq = np.exp(P_seq * np.log(dk.population.values).std() + np.log(dk.population.values).mean())\n",
    "\n",
    "az.plot_hpd(P_seq, lam1, color=\"b\", fill_kwargs={\"alpha\": 0.2}, ax=ax1)\n",
    "ax1.plot(P_seq, lmu1, color=\"b\", alpha=0.7)\n",
    "\n",
    "az.plot_hpd(P_seq, lam0, color=\"k\", fill_kwargs={\"alpha\": 0.2}, ax=ax1)\n",
    "ax1.plot(P_seq, lmu0, \"--\", color=\"k\", alpha=0.7)\n",
    "\n",
    "# display observed data:\n",
    "ax1.scatter(\n",
    "    dk.population[~index],\n",
    "    dk.total_tools[~index],\n",
    "    s=psize[~index],\n",
    "    facecolors=\"none\",\n",
    "    edgecolors=\"k\",\n",
    "    alpha=0.8,\n",
    "    lw=1,\n",
    ")\n",
    "ax1.scatter(dk.population[index], dk.total_tools[index], s=psize[index], alpha=0.8)\n",
    "plt.setp(ax1.get_xticklabels(), ha=\"right\", rotation=45)\n",
    "ax1.set_xlim((-10_000, 350_000))\n",
    "ax1.set_xlabel(\"population\")\n",
    "ax1.set_ylabel(\"total tools\")\n",
    "plt.tight_layout();"
   ]
  },
  {
   "cell_type": "markdown",
   "id": "33e200b4-35fe-4dab-99d2-73106292214f",
   "metadata": {},
   "source": [
    "Using an actaul model:\n",
    "    \n",
    "    ∆T = αP^B − γT\n",
    "where P is the population size, T is the number of tools, andα, β, and γ are parameters to be estimated.\n",
    "To find an equilibrium number of tools T, just set ∆T = 0 and solve for T. This yields:\n",
    "Tˆ =αP^β/γ\n",
    "\n",
    "    "
   ]
  },
  {
   "cell_type": "markdown",
   "id": "94fdc6a4-a8da-4954-87ec-a44f130ae02f",
   "metadata": {},
   "source": [
    " if you give the population raw to PyMC3, the sampler will break: the scale of these data is too wide. However we can't just standardize the data, as we usually do. Why? Because some data points will then be negative, which doesn't play nice with the b exponent (try it if you don't trust me). But we'll do something similar: let's standardize the data, and then just add the absolute value of the minimum, and add yet again an epsilon -- this will ensure that our data stay positive and that the transformation will be easy to reverse when we want to plot on the natural scale:"
   ]
  },
  {
   "cell_type": "code",
   "execution_count": null,
   "id": "af1041fd-5ffa-4902-a145-908644cb07d6",
   "metadata": {},
   "outputs": [],
   "source": [
    "with pm.Model() as m11_11:\n",
    "    a = pm.Normal(\"a\", 1.0, 1.0, shape=2)\n",
    "    b = pm.Exponential(\"b\", 1.0, shape=2)\n",
    "    g = pm.Exponential(\"g\", 1.0)\n",
    "\n",
    "    cid = pm.intX(pm.Data(\"cid\", c_id))\n",
    "    P_ = pm.Data(\"P\", P)\n",
    "    lam = (tt.exp(a[cid]) * P_ ** b[cid]) / g\n",
    "\n",
    "    T = pm.Poisson(\"total_tools\", lam, observed=dk.total_tools)\n",
    "    trace_11_11 = pm.sample(2000, tune=2000, target_accept=0.9, random_seed=RANDOM_SEED)\n",
    "az.plot_trace(trace_11_11, compact=True);"
   ]
  },
  {
   "cell_type": "code",
   "execution_count": null,
   "id": "0f5224a1-85a6-47d2-a958-a95607fe16f6",
   "metadata": {},
   "outputs": [],
   "source": [
    "ns = 100\n",
    "P_seq = np.linspace(-1.4, 3.0, ns) + 1.4  # our little trick\n",
    "\n",
    "with m11_11:\n",
    "    # predictions for cid=0 (low contact)\n",
    "    pm.set_data({\"cid\": np.array([0] * ns), \"P\": P_seq})\n",
    "    lam0 = pm.sample_posterior_predictive(trace_11_11, var_names=[\"total_tools\"])[\"total_tools\"]\n",
    "\n",
    "    # predictions for cid=1 (high contact)\n",
    "    pm.set_data({\"cid\": np.array([1] * ns)})\n",
    "    lam1 = pm.sample_posterior_predictive(trace_11_11, var_names=[\"total_tools\"])[\"total_tools\"]\n",
    "\n",
    "lmu0, lmu1 = lam0.mean(0), lam1.mean(0)"
   ]
  },
  {
   "cell_type": "code",
   "execution_count": null,
   "id": "c317605d-ba71-4cb3-9e53-2382ac20a8c2",
   "metadata": {},
   "outputs": [],
   "source": [
    "_, (ax0, ax1) = plt.subplots(1, 2, figsize=(14, 6))\n",
    "\n",
    "# Plot on standardized log scale:\n",
    "az.plot_hpd(P_seq, lam1, color=\"b\", fill_kwargs={\"alpha\": 0.2}, ax=ax0)\n",
    "ax0.plot(P_seq, lmu1, color=\"b\", alpha=0.7, label=\"high contact mean\")\n",
    "\n",
    "az.plot_hpd(P_seq, lam0, color=\"k\", fill_kwargs={\"alpha\": 0.2}, ax=ax0)\n",
    "ax0.plot(P_seq, lmu0, \"--\", color=\"k\", alpha=0.7, label=\"low contact mean\")\n",
    "\n",
    "# display observed data:\n",
    "index = c_id == 1\n",
    "ax0.scatter(\n",
    "    P[~index],\n",
    "    dk.total_tools[~index],\n",
    "    s=psize[~index],\n",
    "    facecolors=\"none\",\n",
    "    edgecolors=\"k\",\n",
    "    alpha=0.8,\n",
    "    lw=1,\n",
    "    label=\"low contact\",\n",
    ")\n",
    "ax0.scatter(P[index], dk.total_tools[index], s=psize[index], alpha=0.8, label=\"high contact\")\n",
    "ax0.set_xlabel(\"standardized population\")\n",
    "ax0.set_ylabel(\"total tools\")\n",
    "ax0.legend(fontsize=8, ncol=2)\n",
    "\n",
    "# Plot on natural scale:\n",
    "# unstandardize our log pop sequence:\n",
    "P_seq = np.exp(\n",
    "    (P_seq - 1.4) * np.log(dk.population.values).std() + np.log(dk.population.values).mean()\n",
    ")\n",
    "\n",
    "az.plot_hpd(P_seq, lam1, color=\"b\", fill_kwargs={\"alpha\": 0.2}, ax=ax1)\n",
    "ax1.plot(P_seq, lmu1, color=\"b\", alpha=0.7)\n",
    "\n",
    "az.plot_hpd(P_seq, lam0, color=\"k\", fill_kwargs={\"alpha\": 0.2}, ax=ax1)\n",
    "ax1.plot(P_seq, lmu0, \"--\", color=\"k\", alpha=0.7)\n",
    "\n",
    "# display observed data:\n",
    "ax1.scatter(\n",
    "    dk.population[~index],\n",
    "    dk.total_tools[~index],\n",
    "    s=psize[~index],\n",
    "    facecolors=\"none\",\n",
    "    edgecolors=\"k\",\n",
    "    alpha=0.8,\n",
    "    lw=1,\n",
    ")\n",
    "ax1.scatter(dk.population[index], dk.total_tools[index], s=psize[index], alpha=0.8)\n",
    "plt.setp(ax1.get_xticklabels(), ha=\"right\", rotation=45)\n",
    "ax1.set_xlim((-10_000, 350_000))\n",
    "ax1.set_xlabel(\"population\")\n",
    "ax1.set_ylabel(\"total tools\")\n",
    "plt.tight_layout();"
   ]
  }
 ],
 "metadata": {
  "kernelspec": {
   "display_name": "Python 3",
   "language": "python",
   "name": "python3"
  },
  "language_info": {
   "codemirror_mode": {
    "name": "ipython",
    "version": 3
   },
   "file_extension": ".py",
   "mimetype": "text/x-python",
   "name": "python",
   "nbconvert_exporter": "python",
   "pygments_lexer": "ipython3",
   "version": "3.8.8"
  }
 },
 "nbformat": 4,
 "nbformat_minor": 5
}
