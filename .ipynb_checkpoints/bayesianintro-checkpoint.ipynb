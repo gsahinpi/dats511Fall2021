{
 "cells": [
  {
   "cell_type": "markdown",
   "metadata": {},
   "source": [
    "Conjunction :p(A and B) or  p(B and A) <br>\n",
    "\n",
    "p(A and B) = p(B and A)<br>\n",
    "\n",
    "probability of a conjunction:<br>\n",
    "\n",
    "p(A and B) = p(A) p(B|A)=p(B) (A|B)<br>\n",
    "\n",
    "\n",
    "<h1>Bayes Rule</h1>\n",
    "\n",
    "$$P(A|B) = \\dfrac{P(B|A)P(A)}{P(B)}$$\n",
    "\n",
    "\n",
    "\n",
    "\n"
   ]
  },
  {
   "cell_type": "markdown",
   "metadata": {},
   "source": [
    "But we will interpret as \n",
    "$$P(model|data) = \\dfrac{P(data|model)}{P(data)}.P(model)$$\n"
   ]
  },
  {
   "cell_type": "markdown",
   "metadata": {},
   "source": [
    "<h2> The cookie problem </h2>\n",
    "<p>Suppose we have two bowls of cookies: Bowl 1 has  30 vanilla cookies and  10 chocolate cookies\n",
    "bowl 2 has 20 vanilla and 20 choloclate cookies. You select a cookie and it is vanilla!<br>\n",
    "Which of the bowls  did the cookie come from ? \n",
    "\n",
    "our <b>data</b>: We have a vanilla cookie\n",
    "\n",
    "We have two models: \n",
    "<ol> \n",
    " <li>cokee came from bowl1= >p(Bowl1)</li> \n",
    " <li>cokee came from bowl2 => p(Bowl2)</li>\n",
    "</ol>\n",
    "$$P(model=Bowl1|data=V1) = \\dfrac{P(data=V1|model=Bowl1)}{P(V1)}.P(model=Bowl1)$$\n",
    "<h2> Likelyhood</h2>\n",
    "\n",
    "P(data=V1|model=Bowl1)=30/40\n",
    "\n",
    "<h2> Prior !distribution! </h2>\n",
    "\n",
    "P(model=Bowl1)=1/2\n",
    "\n",
    "<h2> Posterior !distribution! </h2>\n",
    "\n",
    "P(model=Bowl1|data=V1)\n",
    "\n",
    "\n",
    "\n",
    " \n",
    " \n",
    "\n",
    "\n",
    "\n",
    "\n",
    "\n",
    "\n"
   ]
  },
  {
   "cell_type": "markdown",
   "metadata": {},
   "source": [
    "<h2> Bowl2</h2>\n",
    "$$P(model=Bowl2|data=V1) = \\dfrac{P(data=V1|model=Bowl2)}{P(V1)}.P(model=Bowl2)$$\n",
    "$$P(data=V1|model=Bowl2)=20/40$$\n",
    "$$P(model=Bowl2)=1/2$$\n",
    "$$P(V1)=  50/80$$\n",
    "\n",
    "\n"
   ]
  },
  {
   "cell_type": "markdown",
   "metadata": {},
   "source": [
    "$$P(model=Bowl1|data=V1) = \\dfrac{P(data=V1|model=Bowl1)}{P(V1)}.P(model=Bowl1)$$\n",
    "\n",
    "$$P(model=Bowl1|data=V1)=\\dfrac{(3/4)}{5/8}.1/2=3/5$$\n",
    "$$P(model=Bowl2|data=V1)=\\dfrac{(1/2)}{5/8}.1/2=2/5$$\n",
    "\n"
   ]
  },
  {
   "cell_type": "markdown",
   "metadata": {},
   "source": [
    "<p>The normalizing constant can be tricky. It is supposed to be the probability of seeing the data under any hypothesis at all, but in the most general case it is hard to nail down what that means.</p>\n",
    "Most often we simplify things by specifying a set of hypotheses that are\n",
    "<ol><li>Mutually exclusive: At most one hypothesis in the set can be true,</li> and\n",
    "<li>Collectively exhaustive: There are no other possibilities; at least one of the hypotheses has to be true.</li></ol>\n",
    "<p>\n",
    "In the cookie problem, there are only two hypotheses—the cookie came from Bowl 1 or Bowl 2—and they are mutually exclusive and collectively exhaustive.</p>\n",
    "<p>In that case we can compute p(D) using the law of total probability, which says that if there are two exclusive ways that something might happen, you can add up the probabilities like this:</p>\n",
    "p(D) = p(B1) p(D|B1) + p(B2) p(D|B2)"
   ]
  },
  {
   "cell_type": "markdown",
   "metadata": {},
   "source": [
    "<h2>Second form of bayes</h2>\n",
    "$$P(model=Bowl1|data=V1) = \\dfrac{P(data=V1|model=Bowl1)}{P(Bowl1)P(data=V1|model=Bowl1)+P(Bowl2)P(data=V1|model=Bowl2)}.P(model=Bowl1)$$\n",
    "\n",
    "P(data=V1|model=Bowl1)=3/4\n",
    "\n",
    "P(data=V1|model=Bowl2)=1/2\n",
    "\n",
    "P(B1)=1/2\n",
    "p(B2)=1/2\n",
    "\n",
    "$$P(model=Bowl1|data=V1)=\\dfrac{P(3/4}{1/2x3/4)+P(1/2)x1/2}.1/2$$\n",
    "$$P(model=Bowl1|data=V1)=\\dfrac{P(1/2}{1/2x3/4)+P(1/2)x1/2}.1/2$$\n",
    "\n",
    "\n",
    "P(data=V1|model=Bowl1) ~ p(V1|Bowl1). p(Bowl1)\n",
    "\n",
    "\n"
   ]
  },
  {
   "cell_type": "markdown",
   "metadata": {},
   "source": [
    "<h1> A Game of Cards</h1>\n"
   ]
  },
  {
   "cell_type": "markdown",
   "metadata": {},
   "source": [
    "<h1> High DECK</h1>\n",
    "<img src=\"deck1.png\" />\n"
   ]
  },
  {
   "cell_type": "markdown",
   "metadata": {},
   "source": [
    "<h1> Low DEck</h1>\n",
    "<img src=\"deck2.png\" />\n"
   ]
  },
  {
   "cell_type": "markdown",
   "metadata": {},
   "source": [
    "You’re handed one of the two decks, but you don’t know which.\n",
    "\n",
    "1.   First, you draw the top card and note the value.\n",
    "2.   Second, you replace the card and reshuffle the deck. \n",
    "\n",
    "\n",
    "You repeat this procedure of drawing, noting, and reshuffling for as many turns as you need. \n",
    "The goal is to determine which of the the two decks (High or Low) you are in fact holding in your hand."
   ]
  },
  {
   "cell_type": "markdown",
   "metadata": {},
   "source": [
    "<h1> Before the data - the prior</h1>\n",
    "     \n",
    "    p(High)=0.5\n",
    "\n",
    "\n",
    "    p(Low)=0.5\n",
    "\n",
    "<h2>First Data </h2>: You draw a 9\n",
    "    \n",
    "    "
   ]
  },
  {
   "cell_type": "markdown",
   "metadata": {},
   "source": [
    "<table>\n",
    "<thead>\n",
    "  <tr>\n",
    "    <th>p(M|D)</th>\n",
    "    <th>p(D|M)  </th>\n",
    "    <th>p(M)</th>\n",
    "    <th>normalization </th>\n",
    "  </tr>\n",
    "</thead>\n",
    "<tbody>\n",
    "  <tr>\n",
    "    <td>p(M=hd|D=9) </td>\n",
    "    <td>p(D=9|M=hD)=9/55</td>\n",
    "    <td>1/2</td>\n",
    "    <td> 9/55*1/2=9/110</td>\n",
    "  </tr>\n",
    "  <tr>\n",
    "    <td> p(M=ld|D=9)</td>\n",
    "    <td> p(D=9|M=lD)=2/55</td>\n",
    "    <td> 1/2</td>\n",
    "    <td> 2/55*1/2=2/110</td>\n",
    "  </tr>\n",
    "</tbody>\n",
    "</table>\n",
    "\n"
   ]
  },
  {
   "cell_type": "markdown",
   "metadata": {},
   "source": [
    "p(M=hd|D=9)=(9/110)/(9+2)/110=9/11\n",
    "\n",
    "\n",
    "p(M=ld|D=9)=(2/110)/(9+2)/110=2/11\n",
    "\n",
    "<h2>Second Data</h2>: You draw  7\n"
   ]
  },
  {
   "cell_type": "markdown",
   "metadata": {},
   "source": [
    "P(H|data = 9 then a 7) ∼ P(data = 7|H)P(H, 9)<br>\n",
    "P(L|data = 9 then a 7) ∼ P(data = 7|L)P(L, 9) \n",
    " "
   ]
  },
  {
   "cell_type": "markdown",
   "metadata": {},
   "source": [
    "<h1> Method I</h1>\n",
    "\n",
    "\n",
    "P(M=HD|data = 9 then a 7)~p(d=9,7|M=hd)p(hd) = (9/55) *(7/55)*1/2=0.01X -> 0.08\n",
    "\n",
    "\n",
    "P(M=LD|data = 9 then a 7)~p(d=9,7|M=ld)p(ld) = (2/55) *(4/55)*1/2\n",
    "\n",
    " P(9,7)=(9/55) *(7/55)*1/2 +(2/55) *(4/55)*1/2=0.02\n",
    "\n",
    "P(M=HD|data = 9 then a 7)=0.01/0.02=1/2\n",
    "P(M=lD|data = 9 then a 7)=0.001/0.02=0.05\n",
    "\n",
    "<h1> Method II</h1>\n",
    "\n",
    "P(M=HD|data = 9 then a 7)~ p (M=hd,9 | d=7)~ p(7|M=hd) p(HD,9)\n",
    "new likelyhood  =7/55\n",
    "prior probability P(M=HD,9)=9/11\n",
    "P(M=HD|data = 9 then a 7)~ 7/55*9/11=63/(55*11)\n",
    "P(M=lD|data = 9 then a 7)~4/55 *2/11=8/(55*11)\n",
    "\n",
    "P(M=HD|data = 9 then a 7)= (63/55*11)/((63/55*11 +8/55*11)=0.89\n",
    "                                       \n",
    "<h1> bayesian update </h1>\n",
    "\n",
    "previous posterior dist. becomes the new prior distribution\n",
    "\n",
    "\n",
    "\n",
    "\n"
   ]
  },
  {
   "cell_type": "markdown",
   "metadata": {},
   "source": [
    "<h1> approximate</h1>\n",
    "\n",
    "4h 1T \n",
    "\n",
    "2Y 3T"
   ]
  },
  {
   "cell_type": "code",
   "execution_count": null,
   "metadata": {},
   "outputs": [],
   "source": [
    "p(0) ......          p(0.5)    .....     p1(1)      "
   ]
  },
  {
   "cell_type": "code",
   "execution_count": 10,
   "metadata": {},
   "outputs": [],
   "source": [
    "import arviz as az\n",
    "import matplotlib.pyplot as plt\n",
    "import numpy as np\n",
    "\n",
    "import scipy.stats as stats"
   ]
  },
  {
   "cell_type": "markdown",
   "metadata": {},
   "source": [
    "Binomial Distribution\n",
    "$$Pr(w \\mid n, p) =  \\frac{n!}{w!(n − w)!} p^w (1 − p)^{n−w}$$\n",
    "\n",
    "\n",
    "The probability of observing six W’s in nine tosses—under a value of p=0.5"
   ]
  },
  {
   "cell_type": "code",
   "execution_count": null,
   "metadata": {},
   "outputs": [],
   "source": [
    "stats.binom.pmf(4, n=5, p=0.5)# prob. of observing 4 heads in 5 tosses= likelyhood"
   ]
  },
  {
   "cell_type": "code",
   "execution_count": null,
   "metadata": {},
   "outputs": [],
   "source": [
    "stats.binom.pmf(2, n=5, p=0.5)"
   ]
  },
  {
   "cell_type": "markdown",
   "metadata": {},
   "source": [
    "p(M=> p=0.0)  |data=4h in 5 throws )~ p(4h,5, p=0)*p(p=0)\n",
    ".\n",
    ".\n",
    ".\n",
    "p(M=> p=0.5)  |data=4h in 5 throws )~ p(4h,5, p=0.5)*p(p=0)\n",
    ".\n",
    ".\n",
    ".\n",
    "p(M=> p=1)  |data=4h in 5 throws )~ p(4h,5, p=1)*p(p=0)\n"
   ]
  },
  {
   "cell_type": "markdown",
   "metadata": {},
   "source": [
    "<h1> priors</h1>\n",
    "p0=p0.1=..=p0.5=......=p01 \n",
    "incase of five points\n",
    "p0=p0.25=p0.5=p0.75=p1= 1/5\n",
    "\n",
    "\n"
   ]
  },
  {
   "cell_type": "code",
   "execution_count": null,
   "metadata": {},
   "outputs": [],
   "source": [
    "p_grid = np.linspace(0, 1, 5) # |..|..|..|..|\n",
    "prior = np.repeat(5,5)\n",
    "p_grid"
   ]
  },
  {
   "cell_type": "code",
   "execution_count": null,
   "metadata": {},
   "outputs": [],
   "source": [
    "def posterior_grid_approx(grid_points=5, success=4, tosses=5):\n",
    "    # define grid\n",
    "    p_grid = np.linspace(0, 1, grid_points) # |..|..|..|..|\n",
    "\n",
    "    # define prior\n",
    "    prior = np.repeat(5, grid_points)  # uniform Repeat elements of an array.\n",
    "    # prior = (p_grid >= 0.5).astype(int)  # truncated\n",
    "    # prior = np.exp(- 5 * abs(p_grid - 0.5))  # double exp\n",
    "\n",
    "    # compute likelihood at each point in the grid\n",
    "    likelihood = stats.binom.pmf(success, tosses, p_grid)\n",
    "\n",
    "    # compute product of likelihood and prior\n",
    "    unstd_posterior = likelihood * prior\n",
    "\n",
    "    # standardize the posterior, so it sums to 1\n",
    "    posterior = unstd_posterior / unstd_posterior.sum()\n",
    "    return p_grid, posterior \n",
    "   "
   ]
  },
  {
   "cell_type": "code",
   "execution_count": 2,
   "metadata": {},
   "outputs": [
    {
     "ename": "NameError",
     "evalue": "name 'plt' is not defined",
     "output_type": "error",
     "traceback": [
      "\u001b[0;31m---------------------------------------------------------------------------\u001b[0m",
      "\u001b[0;31mNameError\u001b[0m                                 Traceback (most recent call last)",
      "\u001b[0;32m<ipython-input-2-e258cb7606c2>\u001b[0m in \u001b[0;36m<module>\u001b[0;34m\u001b[0m\n\u001b[1;32m      1\u001b[0m \u001b[0;31m#w, n = 0, 0 #6,9\u001b[0m\u001b[0;34m\u001b[0m\u001b[0;34m\u001b[0m\u001b[0;34m\u001b[0m\u001b[0m\n\u001b[1;32m      2\u001b[0m \u001b[0;34m\u001b[0m\u001b[0m\n\u001b[0;32m----> 3\u001b[0;31m \u001b[0m_\u001b[0m\u001b[0;34m,\u001b[0m \u001b[0max\u001b[0m \u001b[0;34m=\u001b[0m \u001b[0mplt\u001b[0m\u001b[0;34m.\u001b[0m\u001b[0msubplots\u001b[0m\u001b[0;34m(\u001b[0m\u001b[0;36m1\u001b[0m\u001b[0;34m,\u001b[0m \u001b[0;36m2\u001b[0m\u001b[0;34m,\u001b[0m \u001b[0mfigsize\u001b[0m\u001b[0;34m=\u001b[0m\u001b[0;34m(\u001b[0m\u001b[0;36m12\u001b[0m\u001b[0;34m,\u001b[0m \u001b[0;36m5\u001b[0m\u001b[0;34m)\u001b[0m\u001b[0;34m)\u001b[0m\u001b[0;34m\u001b[0m\u001b[0;34m\u001b[0m\u001b[0m\n\u001b[0m\u001b[1;32m      4\u001b[0m \u001b[0;34m\u001b[0m\u001b[0m\n\u001b[1;32m      5\u001b[0m \u001b[0;34m\u001b[0m\u001b[0m\n",
      "\u001b[0;31mNameError\u001b[0m: name 'plt' is not defined"
     ]
    }
   ],
   "source": [
    "#w, n = 0, 0 #6,9\n",
    "\n",
    "_, ax = plt.subplots(1, 2, figsize=(12, 5))\n",
    "\n",
    "\n",
    "idx=0      \n",
    "p_grid, posterior = posterior_grid_approx(100, 4, 5)\n",
    "ax[idx].plot(p_grid, posterior, \"o-\", label=f\"success =4 \\ntosses = 5\")\n",
    "ax[idx].set_xlabel(\"bias of coin\")\n",
    "ax[idx].set_ylabel(\"posterior probability \\n of observing that fraction\")\n",
    "ax[idx].set_title(\"5 points\")\n",
    "ax[idx].legend(loc=0)\n"
   ]
  },
  {
   "cell_type": "code",
   "execution_count": null,
   "metadata": {},
   "outputs": [],
   "source": [
    "_, ax = plt.subplots(1, 2, figsize=(12, 5))\n",
    "\n",
    "\n",
    "idx=0      \n",
    "p_grid, posterior = posterior_grid_approx(100, 2, 5)\n",
    "ax[idx].plot(p_grid, posterior, \"o-\", label=f\"success =2 \\ntosses = 5\")\n",
    "ax[idx].set_xlabel(\"bias of coin\")\n",
    "ax[idx].set_ylabel(\"posterior probability \\n of observing that fraction\")\n",
    "ax[idx].set_title(\"5 points\")\n",
    "ax[idx].legend(loc=0)"
   ]
  },
  {
   "cell_type": "code",
   "execution_count": 24,
   "metadata": {},
   "outputs": [],
   "source": [
    "import pandas as pd\n",
    "import numpy as np\n",
    "def panda_posterior_grid_approx(grid_points=5, success=4, tosses=5):\n",
    "    # define grid\n",
    "    p_grid = np.linspace(0, 1, grid_points) # |..|..|..|..|\n",
    "\n",
    "    # define prior\n",
    "    prior = np.repeat(5, grid_points)  # uniform Repeat elements of an array.\n",
    "    # prior = (p_grid >= 0.5).astype(int)  # truncated\n",
    "    # prior = np.exp(- 5 * abs(p_grid - 0.5))  # double exp\n",
    "\n",
    "    # compute likelihood at each point in the grid\n",
    "    likelihood = stats.binom.pmf(success, tosses, p_grid)\n",
    "\n",
    "    # compute product of likelihood and prior\n",
    "    unstd_posterior = likelihood * prior\n",
    "\n",
    "    # standardize the posterior, so it sums to 1\n",
    "    posterior = unstd_posterior / unstd_posterior.sum()\n",
    "    df=pd.DataFrame();\n",
    "    df[\"posterior\"]=posterior\n",
    "    df[\"grid\"]=p_grid\n",
    "    return df\n",
    "   "
   ]
  },
  {
   "cell_type": "code",
   "execution_count": 35,
   "metadata": {},
   "outputs": [
    {
     "data": {
      "text/plain": [
       "array([[<AxesSubplot:title={'center':'posterior'}>,\n",
       "        <AxesSubplot:title={'center':'grid'}>]], dtype=object)"
      ]
     },
     "execution_count": 35,
     "metadata": {},
     "output_type": "execute_result"
    },
    {
     "data": {
      "image/png": "[encoded data removed]",
      "text/plain": [
       "<Figure size 432x288 with 1 Axes>"
      ]
     },
     "metadata": {
      "needs_background": "light"
     },
     "output_type": "display_data"
    },
    {
     "data": {
      "image/png": "[encoded data removed]",
      "text/plain": [
       "<Figure size 432x288 with 1 Axes>"
      ]
     },
     "metadata": {
      "needs_background": "light"
     },
     "output_type": "display_data"
    },
    {
     "data": {
      "image/png": "[encoded data removed]",
      "text/plain": [
       "<Figure size 432x288 with 2 Axes>"
      ]
     },
     "metadata": {
      "needs_background": "light"
     },
     "output_type": "display_data"
    }
   ],
   "source": [
    "a=panda_posterior_grid_approx(100,6,9)\n",
    "a.plot()\n",
    "a.plot( \"grid\", \"posterior\",kind='scatter')\n"
   ]
  },
  {
   "cell_type": "code",
   "execution_count": 36,
   "metadata": {},
   "outputs": [
    {
     "data": {
      "text/html": [
       "<div>\n",
       "<style scoped>\n",
       "    .dataframe tbody tr th:only-of-type {\n",
       "        vertical-align: middle;\n",
       "    }\n",
       "\n",
       "    .dataframe tbody tr th {\n",
       "        vertical-align: top;\n",
       "    }\n",
       "\n",
       "    .dataframe thead th {\n",
       "        text-align: right;\n",
       "    }\n",
       "</style>\n",
       "<table border=\"1\" class=\"dataframe\">\n",
       "  <thead>\n",
       "    <tr style=\"text-align: right;\">\n",
       "      <th></th>\n",
       "      <th>posterior</th>\n",
       "      <th>grid</th>\n",
       "    </tr>\n",
       "  </thead>\n",
       "  <tbody>\n",
       "    <tr>\n",
       "      <th>count</th>\n",
       "      <td>100.000000</td>\n",
       "      <td>100.000000</td>\n",
       "    </tr>\n",
       "    <tr>\n",
       "      <th>mean</th>\n",
       "      <td>0.010000</td>\n",
       "      <td>0.500000</td>\n",
       "    </tr>\n",
       "    <tr>\n",
       "      <th>std</th>\n",
       "      <td>0.010154</td>\n",
       "      <td>0.293045</td>\n",
       "    </tr>\n",
       "    <tr>\n",
       "      <th>min</th>\n",
       "      <td>0.000000</td>\n",
       "      <td>0.000000</td>\n",
       "    </tr>\n",
       "    <tr>\n",
       "      <th>25%</th>\n",
       "      <td>0.000357</td>\n",
       "      <td>0.250000</td>\n",
       "    </tr>\n",
       "    <tr>\n",
       "      <th>50%</th>\n",
       "      <td>0.006044</td>\n",
       "      <td>0.500000</td>\n",
       "    </tr>\n",
       "    <tr>\n",
       "      <th>75%</th>\n",
       "      <td>0.019538</td>\n",
       "      <td>0.750000</td>\n",
       "    </tr>\n",
       "    <tr>\n",
       "      <th>max</th>\n",
       "      <td>0.027589</td>\n",
       "      <td>1.000000</td>\n",
       "    </tr>\n",
       "  </tbody>\n",
       "</table>\n",
       "</div>"
      ],
      "text/plain": [
       "        posterior        grid\n",
       "count  100.000000  100.000000\n",
       "mean     0.010000    0.500000\n",
       "std      0.010154    0.293045\n",
       "min      0.000000    0.000000\n",
       "25%      0.000357    0.250000\n",
       "50%      0.006044    0.500000\n",
       "75%      0.019538    0.750000\n",
       "max      0.027589    1.000000"
      ]
     },
     "execution_count": 36,
     "metadata": {},
     "output_type": "execute_result"
    }
   ],
   "source": [
    "a.describe()"
   ]
  },
  {
   "cell_type": "code",
   "execution_count": null,
   "metadata": {},
   "outputs": [],
   "source": []
  }
 ],
 "metadata": {
  "kernelspec": {
   "display_name": "Python 3",
   "language": "python",
   "name": "python3"
  },
  "language_info": {
   "codemirror_mode": {
    "name": "ipython",
    "version": 3
   },
   "file_extension": ".py",
   "mimetype": "text/x-python",
   "name": "python",
   "nbconvert_exporter": "python",
   "pygments_lexer": "ipython3",
   "version": "3.8.5"
  }
 },
 "nbformat": 4,
 "nbformat_minor": 4
}
